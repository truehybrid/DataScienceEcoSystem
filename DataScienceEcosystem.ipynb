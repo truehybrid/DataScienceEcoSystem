{
 "cells": [
  {
   "cell_type": "markdown",
   "id": "d43d9464-43e4-41b2-91c9-13f4f551df3b",
   "metadata": {},
   "source": [
    "# Data Science Tools and Ecosystem"
   ]
  },
  {
   "cell_type": "markdown",
   "id": "bf77ad16-b31b-4aa5-9916-39865ecdff78",
   "metadata": {},
   "source": [
    "In this notebook, Data Science Tools and Ecosystem are summarized.\n",
    "\n"
   ]
  },
  {
   "cell_type": "markdown",
   "id": "bb0ff35e-e7cb-41ed-bbfe-8688c026a530",
   "metadata": {},
   "source": [
    "**Objectives:**\r\n",
    "\r\n",
    "- List popular languages for Data Science  \r\n",
    "- Identify common Data Science libraries  \r\n",
    "- Create and share Jupyter Notebooks  \r\n",
    "- Use Jupyter Notebook to perform basic arithmetic operations  \r\n",
    "- Demonstrate Data Science Tools and Ecosystem concepts  \r\n"
   ]
  },
  {
   "cell_type": "markdown",
   "id": "8cf3b2be-6c9a-486d-80fb-0d6eec69aa51",
   "metadata": {},
   "source": [
    "Some of the popular languages that Data Scientists use are:\n",
    "1. Python\n",
    "2. Java\n",
    "3. Javacript"
   ]
  },
  {
   "cell_type": "markdown",
   "id": "40bfba52-1a02-4913-89d3-d55a937adb84",
   "metadata": {},
   "source": [
    "Some of the commonly used libraries used by Data Scientists include:\n",
    "1. pandas\n",
    "2. numpy\n",
    "3. matpolotlib"
   ]
  },
  {
   "cell_type": "markdown",
   "id": "2f97de12-fd69-49a1-b832-a254542fb40e",
   "metadata": {},
   "source": [
    "\r\n",
    "| Data Science Tools |\r\n",
    "|---------------------|\r\n",
    "| Jupyter Notebook    |\r\n",
    "| RStudio             |\r\n",
    "| Apache Zeppelin     |\r\n"
   ]
  },
  {
   "cell_type": "markdown",
   "id": "38acd8a5-304b-4516-be4d-18238f6ba4ee",
   "metadata": {},
   "source": [
    "### Below are a few examples of evaluating arithmetic expressions in Python.\r\n",
    "\r\n"
   ]
  },
  {
   "cell_type": "code",
   "execution_count": 1,
   "id": "0d9d41b0-4519-4cbf-8381-96e4fcf522af",
   "metadata": {},
   "outputs": [
    {
     "data": {
      "text/plain": [
       "17"
      ]
     },
     "execution_count": 1,
     "metadata": {},
     "output_type": "execute_result"
    }
   ],
   "source": [
    "# This a simple arithmetic expression to mutiply then add integers\n",
    "\n",
    "(3*4)+5"
   ]
  },
  {
   "cell_type": "code",
   "execution_count": 2,
   "id": "cdf4030f-5aa0-49f8-82cb-a6a4599acaa7",
   "metadata": {},
   "outputs": [
    {
     "data": {
      "text/plain": [
       "3.3333333333333335"
      ]
     },
     "execution_count": 2,
     "metadata": {},
     "output_type": "execute_result"
    }
   ],
   "source": [
    "# This will convert 200 minutes to hours by diving by 60\n",
    "\n",
    "200 / 60"
   ]
  },
  {
   "cell_type": "markdown",
   "id": "52a60f9c-8ad6-4238-8938-a655c0a7e0b3",
   "metadata": {},
   "source": [
    "## Author\r\n",
    "Claude Thompsonre\r\n"
   ]
  },
  {
   "cell_type": "code",
   "execution_count": null,
   "id": "6a92f133-7930-4bc6-a8ae-6d8f4b7e3995",
   "metadata": {},
   "outputs": [],
   "source": []
  }
 ],
 "metadata": {
  "kernelspec": {
   "display_name": "Python [conda env:base] *",
   "language": "python",
   "name": "conda-base-py"
  },
  "language_info": {
   "codemirror_mode": {
    "name": "ipython",
    "version": 3
   },
   "file_extension": ".py",
   "mimetype": "text/x-python",
   "name": "python",
   "nbconvert_exporter": "python",
   "pygments_lexer": "ipython3",
   "version": "3.12.4"
  }
 },
 "nbformat": 4,
 "nbformat_minor": 5
}
